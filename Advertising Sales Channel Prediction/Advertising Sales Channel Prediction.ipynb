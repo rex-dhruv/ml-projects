{
 "cells": [
  {
   "cell_type": "markdown",
   "id": "2ac635f5",
   "metadata": {},
   "source": [
    "## Advertising Sales Channel Prediction\n",
    "### Problem Statement:\n",
    "#### Sales Channel Prediction Case Study  \n",
    "When a company enters a market, the distribution strategy and channel it uses are keys to its success in the market, as well as market know-how and customer knowledge and understanding. Because an effective distribution strategy under efficient supply-chain management opens doors for attaining competitive advantage and strong brand equity in the market, it is a component of the marketing mix that cannot be ignored . \n",
    "The distribution strategy and the channel design have to be right the first time. The case study of Sales channel includes the detailed study of TV, radio and newspaper channel. The predict the total sales generated from all the sales channel.  \n"
   ]
  },
  {
   "cell_type": "markdown",
   "id": "a096ad3f",
   "metadata": {},
   "source": [
    "## Import required Libraries"
   ]
  },
  {
   "cell_type": "code",
   "execution_count": 1,
   "id": "486f6042",
   "metadata": {},
   "outputs": [],
   "source": [
    "import numpy as np\n",
    "import pandas as pd\n",
    "import matplotlib.pyplot as plt\n",
    "import seaborn as sns\n",
    "\n",
    "from sklearn.model_selection import train_test_split,GridSearchCV,cross_val_score\n",
    "from sklearn.metrics import r2_score,mean_absolute_error,mean_squared_error\n",
    "from sklearn.preprocessing import StandardScaler,MinMaxScaler\n",
    "\n",
    "from sklearn.linear_model import LinearRegression,Lasso,LassoCV,Ridge,RidgeCV\n",
    "from sklearn.ensemble import RandomForestRegressor\n",
    "from sklearn.ensemble import AdaBoostRegressor\n",
    "from sklearn.ensemble import BaggingRegressor\n",
    "from sklearn.tree import DecisionTreeRegressor\n",
    "from sklearn.neighbors import KNeighborsRegressor\n",
    "\n",
    "import warnings\n",
    "warnings.filterwarnings('ignore')"
   ]
  },
  {
   "cell_type": "markdown",
   "id": "88b7a8fe",
   "metadata": {},
   "source": [
    "## Load the dataset and read it"
   ]
  },
  {
   "cell_type": "code",
   "execution_count": 2,
   "id": "3f209214",
   "metadata": {},
   "outputs": [
    {
     "data": {
      "text/html": [
       "<div>\n",
       "<style scoped>\n",
       "    .dataframe tbody tr th:only-of-type {\n",
       "        vertical-align: middle;\n",
       "    }\n",
       "\n",
       "    .dataframe tbody tr th {\n",
       "        vertical-align: top;\n",
       "    }\n",
       "\n",
       "    .dataframe thead th {\n",
       "        text-align: right;\n",
       "    }\n",
       "</style>\n",
       "<table border=\"1\" class=\"dataframe\">\n",
       "  <thead>\n",
       "    <tr style=\"text-align: right;\">\n",
       "      <th></th>\n",
       "      <th>Unnamed: 0</th>\n",
       "      <th>TV</th>\n",
       "      <th>radio</th>\n",
       "      <th>newspaper</th>\n",
       "      <th>sales</th>\n",
       "    </tr>\n",
       "  </thead>\n",
       "  <tbody>\n",
       "    <tr>\n",
       "      <th>0</th>\n",
       "      <td>1</td>\n",
       "      <td>230.1</td>\n",
       "      <td>37.8</td>\n",
       "      <td>69.2</td>\n",
       "      <td>22.1</td>\n",
       "    </tr>\n",
       "    <tr>\n",
       "      <th>1</th>\n",
       "      <td>2</td>\n",
       "      <td>44.5</td>\n",
       "      <td>39.3</td>\n",
       "      <td>45.1</td>\n",
       "      <td>10.4</td>\n",
       "    </tr>\n",
       "    <tr>\n",
       "      <th>2</th>\n",
       "      <td>3</td>\n",
       "      <td>17.2</td>\n",
       "      <td>45.9</td>\n",
       "      <td>69.3</td>\n",
       "      <td>9.3</td>\n",
       "    </tr>\n",
       "    <tr>\n",
       "      <th>3</th>\n",
       "      <td>4</td>\n",
       "      <td>151.5</td>\n",
       "      <td>41.3</td>\n",
       "      <td>58.5</td>\n",
       "      <td>18.5</td>\n",
       "    </tr>\n",
       "    <tr>\n",
       "      <th>4</th>\n",
       "      <td>5</td>\n",
       "      <td>180.8</td>\n",
       "      <td>10.8</td>\n",
       "      <td>58.4</td>\n",
       "      <td>12.9</td>\n",
       "    </tr>\n",
       "  </tbody>\n",
       "</table>\n",
       "</div>"
      ],
      "text/plain": [
       "   Unnamed: 0     TV  radio  newspaper  sales\n",
       "0           1  230.1   37.8       69.2   22.1\n",
       "1           2   44.5   39.3       45.1   10.4\n",
       "2           3   17.2   45.9       69.3    9.3\n",
       "3           4  151.5   41.3       58.5   18.5\n",
       "4           5  180.8   10.8       58.4   12.9"
      ]
     },
     "execution_count": 2,
     "metadata": {},
     "output_type": "execute_result"
    }
   ],
   "source": [
    "df=pd.read_csv(r\"C:\\Users\\dell\\Desktop\\Data Trained Projects\\Project 3\\Advertising.csv\")\n",
    "df.head(5)"
   ]
  },
  {
   "cell_type": "markdown",
   "id": "6bfade8b",
   "metadata": {},
   "source": [
    "### Shape of the dataset"
   ]
  },
  {
   "cell_type": "code",
   "execution_count": 3,
   "id": "e0b125cb",
   "metadata": {},
   "outputs": [
    {
     "data": {
      "text/plain": [
       "(200, 5)"
      ]
     },
     "execution_count": 3,
     "metadata": {},
     "output_type": "execute_result"
    }
   ],
   "source": [
    "df.shape"
   ]
  },
  {
   "cell_type": "markdown",
   "id": "b02d36b6",
   "metadata": {},
   "source": [
    "##### Observations:\n",
    "1. This shows that the train is imported successfully.\n",
    "2. The train data consists of 200 training examples with 5 features."
   ]
  },
  {
   "cell_type": "markdown",
   "id": "afa4f429",
   "metadata": {},
   "source": [
    "## General Information of the dataset"
   ]
  },
  {
   "cell_type": "code",
   "execution_count": 4,
   "id": "27a959e6",
   "metadata": {
    "scrolled": false
   },
   "outputs": [
    {
     "name": "stdout",
     "output_type": "stream",
     "text": [
      "<class 'pandas.core.frame.DataFrame'>\n",
      "RangeIndex: 200 entries, 0 to 199\n",
      "Data columns (total 5 columns):\n",
      " #   Column      Non-Null Count  Dtype  \n",
      "---  ------      --------------  -----  \n",
      " 0   Unnamed: 0  200 non-null    int64  \n",
      " 1   TV          200 non-null    float64\n",
      " 2   radio       200 non-null    float64\n",
      " 3   newspaper   200 non-null    float64\n",
      " 4   sales       200 non-null    float64\n",
      "dtypes: float64(4), int64(1)\n",
      "memory usage: 7.9 KB\n"
     ]
    }
   ],
   "source": [
    "df.info()"
   ]
  },
  {
   "cell_type": "markdown",
   "id": "cd20c4f0",
   "metadata": {},
   "source": [
    "Here in every column there are 200 non-null floaat value except \"Unnamed: 0\". It is of integer data type that also has 200 records."
   ]
  },
  {
   "cell_type": "markdown",
   "id": "6c97eedd",
   "metadata": {},
   "source": [
    "## Statistical Discription of the dataset"
   ]
  },
  {
   "cell_type": "code",
   "execution_count": 5,
   "id": "1ca593b5",
   "metadata": {},
   "outputs": [
    {
     "data": {
      "text/html": [
       "<div>\n",
       "<style scoped>\n",
       "    .dataframe tbody tr th:only-of-type {\n",
       "        vertical-align: middle;\n",
       "    }\n",
       "\n",
       "    .dataframe tbody tr th {\n",
       "        vertical-align: top;\n",
       "    }\n",
       "\n",
       "    .dataframe thead th {\n",
       "        text-align: right;\n",
       "    }\n",
       "</style>\n",
       "<table border=\"1\" class=\"dataframe\">\n",
       "  <thead>\n",
       "    <tr style=\"text-align: right;\">\n",
       "      <th></th>\n",
       "      <th>Unnamed: 0</th>\n",
       "      <th>TV</th>\n",
       "      <th>radio</th>\n",
       "      <th>newspaper</th>\n",
       "      <th>sales</th>\n",
       "    </tr>\n",
       "  </thead>\n",
       "  <tbody>\n",
       "    <tr>\n",
       "      <th>count</th>\n",
       "      <td>200.000000</td>\n",
       "      <td>200.000000</td>\n",
       "      <td>200.000000</td>\n",
       "      <td>200.000000</td>\n",
       "      <td>200.000000</td>\n",
       "    </tr>\n",
       "    <tr>\n",
       "      <th>mean</th>\n",
       "      <td>100.500000</td>\n",
       "      <td>147.042500</td>\n",
       "      <td>23.264000</td>\n",
       "      <td>30.554000</td>\n",
       "      <td>14.022500</td>\n",
       "    </tr>\n",
       "    <tr>\n",
       "      <th>std</th>\n",
       "      <td>57.879185</td>\n",
       "      <td>85.854236</td>\n",
       "      <td>14.846809</td>\n",
       "      <td>21.778621</td>\n",
       "      <td>5.217457</td>\n",
       "    </tr>\n",
       "    <tr>\n",
       "      <th>min</th>\n",
       "      <td>1.000000</td>\n",
       "      <td>0.700000</td>\n",
       "      <td>0.000000</td>\n",
       "      <td>0.300000</td>\n",
       "      <td>1.600000</td>\n",
       "    </tr>\n",
       "    <tr>\n",
       "      <th>25%</th>\n",
       "      <td>50.750000</td>\n",
       "      <td>74.375000</td>\n",
       "      <td>9.975000</td>\n",
       "      <td>12.750000</td>\n",
       "      <td>10.375000</td>\n",
       "    </tr>\n",
       "    <tr>\n",
       "      <th>50%</th>\n",
       "      <td>100.500000</td>\n",
       "      <td>149.750000</td>\n",
       "      <td>22.900000</td>\n",
       "      <td>25.750000</td>\n",
       "      <td>12.900000</td>\n",
       "    </tr>\n",
       "    <tr>\n",
       "      <th>75%</th>\n",
       "      <td>150.250000</td>\n",
       "      <td>218.825000</td>\n",
       "      <td>36.525000</td>\n",
       "      <td>45.100000</td>\n",
       "      <td>17.400000</td>\n",
       "    </tr>\n",
       "    <tr>\n",
       "      <th>max</th>\n",
       "      <td>200.000000</td>\n",
       "      <td>296.400000</td>\n",
       "      <td>49.600000</td>\n",
       "      <td>114.000000</td>\n",
       "      <td>27.000000</td>\n",
       "    </tr>\n",
       "  </tbody>\n",
       "</table>\n",
       "</div>"
      ],
      "text/plain": [
       "       Unnamed: 0          TV       radio   newspaper       sales\n",
       "count  200.000000  200.000000  200.000000  200.000000  200.000000\n",
       "mean   100.500000  147.042500   23.264000   30.554000   14.022500\n",
       "std     57.879185   85.854236   14.846809   21.778621    5.217457\n",
       "min      1.000000    0.700000    0.000000    0.300000    1.600000\n",
       "25%     50.750000   74.375000    9.975000   12.750000   10.375000\n",
       "50%    100.500000  149.750000   22.900000   25.750000   12.900000\n",
       "75%    150.250000  218.825000   36.525000   45.100000   17.400000\n",
       "max    200.000000  296.400000   49.600000  114.000000   27.000000"
      ]
     },
     "execution_count": 5,
     "metadata": {},
     "output_type": "execute_result"
    }
   ],
   "source": [
    "df.describe()"
   ]
  },
  {
   "cell_type": "markdown",
   "id": "69e12568",
   "metadata": {},
   "source": [
    "## Check for Null values"
   ]
  },
  {
   "cell_type": "code",
   "execution_count": 6,
   "id": "253d3c99",
   "metadata": {},
   "outputs": [
    {
     "data": {
      "text/plain": [
       "Unnamed: 0    0\n",
       "TV            0\n",
       "radio         0\n",
       "newspaper     0\n",
       "sales         0\n",
       "dtype: int64"
      ]
     },
     "execution_count": 6,
     "metadata": {},
     "output_type": "execute_result"
    }
   ],
   "source": [
    "df.isnull().sum()"
   ]
  },
  {
   "cell_type": "markdown",
   "id": "77ab335d",
   "metadata": {},
   "source": [
    "here we can see there are no null values."
   ]
  },
  {
   "cell_type": "code",
   "execution_count": 7,
   "id": "dfb836d3",
   "metadata": {},
   "outputs": [
    {
     "data": {
      "text/plain": [
       "['Unnamed: 0', 'TV', 'radio', 'newspaper', 'sales']"
      ]
     },
     "execution_count": 7,
     "metadata": {},
     "output_type": "execute_result"
    }
   ],
   "source": [
    "df.columns.tolist()"
   ]
  },
  {
   "cell_type": "markdown",
   "id": "5c76d150",
   "metadata": {},
   "source": [
    "##### Observation:\n",
    "\n",
    "Unnamed: 0 :- It is nominal variable that is not needed.\n",
    "    \n",
    "TV: It is the colmns through which the sales of the production are dependent while it is independent & is our feature.\n",
    "    \n",
    "radio: It is the colmns through which the sales of the production are dependent while it is independent & is our feature.\n",
    "    \n",
    "newspaper: It is the column through which sales of the production are dependent while it is independent & is our feature \n",
    "    \n",
    "sales: It is our label i.e. dependent on all features.\n",
    "    \n",
    "ALL the columns are continous. And our label is continous variable too, hence it a regression problem."
   ]
  },
  {
   "cell_type": "markdown",
   "id": "80629a12",
   "metadata": {},
   "source": [
    "## Data Preprocessing"
   ]
  },
  {
   "cell_type": "code",
   "execution_count": 8,
   "id": "ecc5f83a",
   "metadata": {},
   "outputs": [],
   "source": [
    "df.drop(['Unnamed: 0'], axis=1, inplace=True)"
   ]
  },
  {
   "cell_type": "markdown",
   "id": "afbec99a",
   "metadata": {},
   "source": [
    "Dropping the unwanted column with is least related with the label"
   ]
  },
  {
   "cell_type": "code",
   "execution_count": 9,
   "id": "275bfd79",
   "metadata": {},
   "outputs": [
    {
     "data": {
      "text/html": [
       "<div>\n",
       "<style scoped>\n",
       "    .dataframe tbody tr th:only-of-type {\n",
       "        vertical-align: middle;\n",
       "    }\n",
       "\n",
       "    .dataframe tbody tr th {\n",
       "        vertical-align: top;\n",
       "    }\n",
       "\n",
       "    .dataframe thead th {\n",
       "        text-align: right;\n",
       "    }\n",
       "</style>\n",
       "<table border=\"1\" class=\"dataframe\">\n",
       "  <thead>\n",
       "    <tr style=\"text-align: right;\">\n",
       "      <th></th>\n",
       "      <th>TV</th>\n",
       "      <th>radio</th>\n",
       "      <th>newspaper</th>\n",
       "      <th>sales</th>\n",
       "    </tr>\n",
       "  </thead>\n",
       "  <tbody>\n",
       "    <tr>\n",
       "      <th>0</th>\n",
       "      <td>230.1</td>\n",
       "      <td>37.8</td>\n",
       "      <td>69.2</td>\n",
       "      <td>22.1</td>\n",
       "    </tr>\n",
       "    <tr>\n",
       "      <th>1</th>\n",
       "      <td>44.5</td>\n",
       "      <td>39.3</td>\n",
       "      <td>45.1</td>\n",
       "      <td>10.4</td>\n",
       "    </tr>\n",
       "    <tr>\n",
       "      <th>2</th>\n",
       "      <td>17.2</td>\n",
       "      <td>45.9</td>\n",
       "      <td>69.3</td>\n",
       "      <td>9.3</td>\n",
       "    </tr>\n",
       "    <tr>\n",
       "      <th>3</th>\n",
       "      <td>151.5</td>\n",
       "      <td>41.3</td>\n",
       "      <td>58.5</td>\n",
       "      <td>18.5</td>\n",
       "    </tr>\n",
       "    <tr>\n",
       "      <th>4</th>\n",
       "      <td>180.8</td>\n",
       "      <td>10.8</td>\n",
       "      <td>58.4</td>\n",
       "      <td>12.9</td>\n",
       "    </tr>\n",
       "  </tbody>\n",
       "</table>\n",
       "</div>"
      ],
      "text/plain": [
       "      TV  radio  newspaper  sales\n",
       "0  230.1   37.8       69.2   22.1\n",
       "1   44.5   39.3       45.1   10.4\n",
       "2   17.2   45.9       69.3    9.3\n",
       "3  151.5   41.3       58.5   18.5\n",
       "4  180.8   10.8       58.4   12.9"
      ]
     },
     "execution_count": 9,
     "metadata": {},
     "output_type": "execute_result"
    }
   ],
   "source": [
    "df.head()"
   ]
  },
  {
   "cell_type": "markdown",
   "id": "f6224ff7",
   "metadata": {},
   "source": [
    "# Exploratory Data Analysis (EDA)"
   ]
  },
  {
   "cell_type": "code",
   "execution_count": 10,
   "id": "afe3fbde",
   "metadata": {},
   "outputs": [
    {
     "data": {
      "image/png": "[encoded data removed]",
      "text/plain": [
       "<Figure size 1152x576 with 3 Axes>"
      ]
     },
     "metadata": {
      "needs_background": "light"
     },
     "output_type": "display_data"
    }
   ],
   "source": [
    "fig,axs = plt.subplots(1,3)\n",
    "df.plot(kind='scatter', x='TV', y='sales', ax=axs[0], figsize=(16,8))\n",
    "df.plot(kind='scatter', x='radio', y='sales', ax=axs[1])\n",
    "df.plot(kind='scatter', x='newspaper', y='sales', ax=axs[2])\n",
    "plt.show()"
   ]
  },
  {
   "cell_type": "markdown",
   "id": "151cf1f4",
   "metadata": {},
   "source": [
    "From the above graph:\n",
    "\n",
    "Sales v/s TV: Here we can see that there is some linear relation between them as they are linearly dependent.\n",
    "    \n",
    "Sales v/ radio: here we analyse that there is some linear relation and seems to be like consists outliers too that we                  further analyse by using boxplot.\n",
    "    \n",
    "Sales v/s newspaper: Here we see there not such linear relation between them. but we have to do further analysis to make sure."
   ]
  },
  {
   "cell_type": "code",
   "execution_count": 11,
   "id": "6a3347ab",
   "metadata": {
    "scrolled": false
   },
   "outputs": [
    {
     "data": {
      "image/png": "[encoded data removed]",
      "text/plain": [
       "<Figure size 720x432 with 1 Axes>"
      ]
     },
     "metadata": {
      "needs_background": "light"
     },
     "output_type": "display_data"
    }
   ],
   "source": [
    "plt.figure(figsize=(10, 6))\n",
    "sns.boxplot(x=\"variable\", y=\"value\", data=pd.melt(df))\n",
    "plt.show()"
   ]
  },
  {
   "cell_type": "markdown",
   "id": "8be8b12d",
   "metadata": {},
   "source": [
    "Here we come to know that in newsaper there are some outliers. while in all other columns there is no outliers."
   ]
  },
  {
   "cell_type": "markdown",
   "id": "3fd1954b",
   "metadata": {},
   "source": [
    "## Removing outliers"
   ]
  },
  {
   "cell_type": "code",
   "execution_count": 12,
   "id": "cbcad1b8",
   "metadata": {},
   "outputs": [
    {
     "data": {
      "image/png": "[encoded data removed]",
      "text/plain": [
       "<Figure size 720x432 with 1 Axes>"
      ]
     },
     "metadata": {
      "needs_background": "light"
     },
     "output_type": "display_data"
    }
   ],
   "source": [
    "def drop_outliers(df, newspaper):\n",
    "    iqr = 1.5*(np.percentile(df['newspaper'],75)-np.percentile(df['newspaper'],25))\n",
    "    df.drop(df[df['newspaper']>(iqr+np.percentile(df['newspaper'],75))].index, inplace=True)\n",
    "\n",
    "drop_outliers(df,'newspaper')\n",
    "plt.figure(figsize=(10,6))\n",
    "sns.boxplot(x=\"variable\", y=\"value\", data=pd.melt(df))\n",
    "plt.title(\"Box plot after outlier removing\")\n",
    "plt.show()"
   ]
  },
  {
   "cell_type": "code",
   "execution_count": 13,
   "id": "a31a1616",
   "metadata": {},
   "outputs": [
    {
     "data": {
      "image/png": "[encoded data removed]",
      "text/plain": [
       "<Figure size 1440x1440 with 3 Axes>"
      ]
     },
     "metadata": {
      "needs_background": "light"
     },
     "output_type": "display_data"
    }
   ],
   "source": [
    "plt.figure(figsize=(20,20))\n",
    "graph=1\n",
    "for col in df.iloc[:,:-1]:\n",
    "    if graph<5:\n",
    "    \n",
    "        plt.subplot(2,3,graph)\n",
    "        sns.distplot(df[col],color='green')\n",
    "    graph+=1\n",
    "plt.tight_layout()"
   ]
  },
  {
   "cell_type": "code",
   "execution_count": 14,
   "id": "137ab4aa",
   "metadata": {},
   "outputs": [
    {
     "data": {
      "text/plain": [
       "TV          -0.082332\n",
       "radio        0.114842\n",
       "newspaper    0.650112\n",
       "sales        0.407130\n",
       "dtype: float64"
      ]
     },
     "execution_count": 14,
     "metadata": {},
     "output_type": "execute_result"
    }
   ],
   "source": [
    "df.skew()"
   ]
  },
  {
   "cell_type": "markdown",
   "id": "5130ed77",
   "metadata": {},
   "source": [
    "from above information we can conclude that the newspaper is skewed as it is not in range -0.5 to 0.5"
   ]
  },
  {
   "cell_type": "code",
   "execution_count": 15,
   "id": "22927c34",
   "metadata": {},
   "outputs": [
    {
     "data": {
      "image/png": "[encoded data removed]",
      "text/plain": [
       "<Figure size 360x360 with 2 Axes>"
      ]
     },
     "metadata": {
      "needs_background": "light"
     },
     "output_type": "display_data"
    }
   ],
   "source": [
    "plt.figure(figsize=(5,5))\n",
    "sns.heatmap(df.corr().abs(),annot=True,annot_kws={\"size\":15},linewidths=True)\n",
    "plt.show()"
   ]
  },
  {
   "cell_type": "code",
   "execution_count": 16,
   "id": "41f32d11",
   "metadata": {},
   "outputs": [
    {
     "data": {
      "image/png": "[encoded data removed]",
      "text/plain": [
       "<Figure size 432x288 with 1 Axes>"
      ]
     },
     "metadata": {
      "needs_background": "light"
     },
     "output_type": "display_data"
    }
   ],
   "source": [
    "df[['TV','radio','newspaper']].corrwith(df['sales']).plot(kind='bar',color='red')\n",
    "plt.show()"
   ]
  },
  {
   "cell_type": "code",
   "execution_count": 17,
   "id": "8e20c93c",
   "metadata": {},
   "outputs": [],
   "source": [
    "import statsmodels.formula.api as smf\n",
    "lm=smf.ols(formula='sales~TV+radio+newspaper',data=df).fit()"
   ]
  },
  {
   "cell_type": "code",
   "execution_count": 18,
   "id": "7c4734e9",
   "metadata": {},
   "outputs": [
    {
     "data": {
      "text/plain": [
       "Intercept    3.417928e-17\n",
       "TV           5.715535e-80\n",
       "radio        5.535441e-54\n",
       "newspaper    8.517770e-01\n",
       "dtype: float64"
      ]
     },
     "execution_count": 18,
     "metadata": {},
     "output_type": "execute_result"
    }
   ],
   "source": [
    "lm.pvalues"
   ]
  },
  {
   "cell_type": "code",
   "execution_count": 19,
   "id": "1271bb3a",
   "metadata": {},
   "outputs": [
    {
     "data": {
      "text/html": [
       "<table class=\"simpletable\">\n",
       "<caption>OLS Regression Results</caption>\n",
       "<tr>\n",
       "  <th>Dep. Variable:</th>          <td>sales</td>      <th>  R-squared:         </th> <td>   0.895</td>\n",
       "</tr>\n",
       "<tr>\n",
       "  <th>Model:</th>                   <td>OLS</td>       <th>  Adj. R-squared:    </th> <td>   0.894</td>\n",
       "</tr>\n",
       "<tr>\n",
       "  <th>Method:</th>             <td>Least Squares</td>  <th>  F-statistic:       </th> <td>   553.5</td>\n",
       "</tr>\n",
       "<tr>\n",
       "  <th>Date:</th>             <td>Thu, 20 Jan 2022</td> <th>  Prob (F-statistic):</th> <td>8.35e-95</td>\n",
       "</tr>\n",
       "<tr>\n",
       "  <th>Time:</th>                 <td>18:57:55</td>     <th>  Log-Likelihood:    </th> <td> -383.24</td>\n",
       "</tr>\n",
       "<tr>\n",
       "  <th>No. Observations:</th>      <td>   198</td>      <th>  AIC:               </th> <td>   774.5</td>\n",
       "</tr>\n",
       "<tr>\n",
       "  <th>Df Residuals:</th>          <td>   194</td>      <th>  BIC:               </th> <td>   787.6</td>\n",
       "</tr>\n",
       "<tr>\n",
       "  <th>Df Model:</th>              <td>     3</td>      <th>                     </th>     <td> </td>   \n",
       "</tr>\n",
       "<tr>\n",
       "  <th>Covariance Type:</th>      <td>nonrobust</td>    <th>                     </th>     <td> </td>   \n",
       "</tr>\n",
       "</table>\n",
       "<table class=\"simpletable\">\n",
       "<tr>\n",
       "      <td></td>         <th>coef</th>     <th>std err</th>      <th>t</th>      <th>P>|t|</th>  <th>[0.025</th>    <th>0.975]</th>  \n",
       "</tr>\n",
       "<tr>\n",
       "  <th>Intercept</th> <td>    2.9523</td> <td>    0.318</td> <td>    9.280</td> <td> 0.000</td> <td>    2.325</td> <td>    3.580</td>\n",
       "</tr>\n",
       "<tr>\n",
       "  <th>TV</th>        <td>    0.0457</td> <td>    0.001</td> <td>   32.293</td> <td> 0.000</td> <td>    0.043</td> <td>    0.048</td>\n",
       "</tr>\n",
       "<tr>\n",
       "  <th>radio</th>     <td>    0.1886</td> <td>    0.009</td> <td>   21.772</td> <td> 0.000</td> <td>    0.171</td> <td>    0.206</td>\n",
       "</tr>\n",
       "<tr>\n",
       "  <th>newspaper</th> <td>   -0.0012</td> <td>    0.006</td> <td>   -0.187</td> <td> 0.852</td> <td>   -0.014</td> <td>    0.011</td>\n",
       "</tr>\n",
       "</table>\n",
       "<table class=\"simpletable\">\n",
       "<tr>\n",
       "  <th>Omnibus:</th>       <td>59.593</td> <th>  Durbin-Watson:     </th> <td>   2.041</td>\n",
       "</tr>\n",
       "<tr>\n",
       "  <th>Prob(Omnibus):</th> <td> 0.000</td> <th>  Jarque-Bera (JB):  </th> <td> 147.654</td>\n",
       "</tr>\n",
       "<tr>\n",
       "  <th>Skew:</th>          <td>-1.324</td> <th>  Prob(JB):          </th> <td>8.66e-33</td>\n",
       "</tr>\n",
       "<tr>\n",
       "  <th>Kurtosis:</th>      <td> 6.299</td> <th>  Cond. No.          </th> <td>    457.</td>\n",
       "</tr>\n",
       "</table><br/><br/>Notes:<br/>[1] Standard Errors assume that the covariance matrix of the errors is correctly specified."
      ],
      "text/plain": [
       "<class 'statsmodels.iolib.summary.Summary'>\n",
       "\"\"\"\n",
       "                            OLS Regression Results                            \n",
       "==============================================================================\n",
       "Dep. Variable:                  sales   R-squared:                       0.895\n",
       "Model:                            OLS   Adj. R-squared:                  0.894\n",
       "Method:                 Least Squares   F-statistic:                     553.5\n",
       "Date:                Thu, 20 Jan 2022   Prob (F-statistic):           8.35e-95\n",
       "Time:                        18:57:55   Log-Likelihood:                -383.24\n",
       "No. Observations:                 198   AIC:                             774.5\n",
       "Df Residuals:                     194   BIC:                             787.6\n",
       "Df Model:                           3                                         \n",
       "Covariance Type:            nonrobust                                         \n",
       "==============================================================================\n",
       "                 coef    std err          t      P>|t|      [0.025      0.975]\n",
       "------------------------------------------------------------------------------\n",
       "Intercept      2.9523      0.318      9.280      0.000       2.325       3.580\n",
       "TV             0.0457      0.001     32.293      0.000       0.043       0.048\n",
       "radio          0.1886      0.009     21.772      0.000       0.171       0.206\n",
       "newspaper     -0.0012      0.006     -0.187      0.852      -0.014       0.011\n",
       "==============================================================================\n",
       "Omnibus:                       59.593   Durbin-Watson:                   2.041\n",
       "Prob(Omnibus):                  0.000   Jarque-Bera (JB):              147.654\n",
       "Skew:                          -1.324   Prob(JB):                     8.66e-33\n",
       "Kurtosis:                       6.299   Cond. No.                         457.\n",
       "==============================================================================\n",
       "\n",
       "Notes:\n",
       "[1] Standard Errors assume that the covariance matrix of the errors is correctly specified.\n",
       "\"\"\""
      ]
     },
     "execution_count": 19,
     "metadata": {},
     "output_type": "execute_result"
    }
   ],
   "source": [
    "lm.summary()"
   ]
  },
  {
   "cell_type": "code",
   "execution_count": 20,
   "id": "e06635dc",
   "metadata": {},
   "outputs": [],
   "source": [
    "# import statsmodels.formula.api as smf\n",
    "lm=smf.ols(formula='sales~TV+radio',data=df).fit()"
   ]
  },
  {
   "cell_type": "code",
   "execution_count": 21,
   "id": "5c0060e9",
   "metadata": {},
   "outputs": [
    {
     "data": {
      "text/html": [
       "<table class=\"simpletable\">\n",
       "<caption>OLS Regression Results</caption>\n",
       "<tr>\n",
       "  <th>Dep. Variable:</th>          <td>sales</td>      <th>  R-squared:         </th> <td>   0.895</td>\n",
       "</tr>\n",
       "<tr>\n",
       "  <th>Model:</th>                   <td>OLS</td>       <th>  Adj. R-squared:    </th> <td>   0.894</td>\n",
       "</tr>\n",
       "<tr>\n",
       "  <th>Method:</th>             <td>Least Squares</td>  <th>  F-statistic:       </th> <td>   834.4</td>\n",
       "</tr>\n",
       "<tr>\n",
       "  <th>Date:</th>             <td>Thu, 20 Jan 2022</td> <th>  Prob (F-statistic):</th> <td>2.60e-96</td>\n",
       "</tr>\n",
       "<tr>\n",
       "  <th>Time:</th>                 <td>18:57:55</td>     <th>  Log-Likelihood:    </th> <td> -383.26</td>\n",
       "</tr>\n",
       "<tr>\n",
       "  <th>No. Observations:</th>      <td>   198</td>      <th>  AIC:               </th> <td>   772.5</td>\n",
       "</tr>\n",
       "<tr>\n",
       "  <th>Df Residuals:</th>          <td>   195</td>      <th>  BIC:               </th> <td>   782.4</td>\n",
       "</tr>\n",
       "<tr>\n",
       "  <th>Df Model:</th>              <td>     2</td>      <th>                     </th>     <td> </td>   \n",
       "</tr>\n",
       "<tr>\n",
       "  <th>Covariance Type:</th>      <td>nonrobust</td>    <th>                     </th>     <td> </td>   \n",
       "</tr>\n",
       "</table>\n",
       "<table class=\"simpletable\">\n",
       "<tr>\n",
       "      <td></td>         <th>coef</th>     <th>std err</th>      <th>t</th>      <th>P>|t|</th>  <th>[0.025</th>    <th>0.975]</th>  \n",
       "</tr>\n",
       "<tr>\n",
       "  <th>Intercept</th> <td>    2.9315</td> <td>    0.297</td> <td>    9.861</td> <td> 0.000</td> <td>    2.345</td> <td>    3.518</td>\n",
       "</tr>\n",
       "<tr>\n",
       "  <th>TV</th>        <td>    0.0457</td> <td>    0.001</td> <td>   32.385</td> <td> 0.000</td> <td>    0.043</td> <td>    0.048</td>\n",
       "</tr>\n",
       "<tr>\n",
       "  <th>radio</th>     <td>    0.1880</td> <td>    0.008</td> <td>   23.182</td> <td> 0.000</td> <td>    0.172</td> <td>    0.204</td>\n",
       "</tr>\n",
       "</table>\n",
       "<table class=\"simpletable\">\n",
       "<tr>\n",
       "  <th>Omnibus:</th>       <td>59.228</td> <th>  Durbin-Watson:     </th> <td>   2.038</td>\n",
       "</tr>\n",
       "<tr>\n",
       "  <th>Prob(Omnibus):</th> <td> 0.000</td> <th>  Jarque-Bera (JB):  </th> <td> 145.127</td>\n",
       "</tr>\n",
       "<tr>\n",
       "  <th>Skew:</th>          <td>-1.321</td> <th>  Prob(JB):          </th> <td>3.06e-32</td>\n",
       "</tr>\n",
       "<tr>\n",
       "  <th>Kurtosis:</th>      <td> 6.257</td> <th>  Cond. No.          </th> <td>    423.</td>\n",
       "</tr>\n",
       "</table><br/><br/>Notes:<br/>[1] Standard Errors assume that the covariance matrix of the errors is correctly specified."
      ],
      "text/plain": [
       "<class 'statsmodels.iolib.summary.Summary'>\n",
       "\"\"\"\n",
       "                            OLS Regression Results                            \n",
       "==============================================================================\n",
       "Dep. Variable:                  sales   R-squared:                       0.895\n",
       "Model:                            OLS   Adj. R-squared:                  0.894\n",
       "Method:                 Least Squares   F-statistic:                     834.4\n",
       "Date:                Thu, 20 Jan 2022   Prob (F-statistic):           2.60e-96\n",
       "Time:                        18:57:55   Log-Likelihood:                -383.26\n",
       "No. Observations:                 198   AIC:                             772.5\n",
       "Df Residuals:                     195   BIC:                             782.4\n",
       "Df Model:                           2                                         \n",
       "Covariance Type:            nonrobust                                         \n",
       "==============================================================================\n",
       "                 coef    std err          t      P>|t|      [0.025      0.975]\n",
       "------------------------------------------------------------------------------\n",
       "Intercept      2.9315      0.297      9.861      0.000       2.345       3.518\n",
       "TV             0.0457      0.001     32.385      0.000       0.043       0.048\n",
       "radio          0.1880      0.008     23.182      0.000       0.172       0.204\n",
       "==============================================================================\n",
       "Omnibus:                       59.228   Durbin-Watson:                   2.038\n",
       "Prob(Omnibus):                  0.000   Jarque-Bera (JB):              145.127\n",
       "Skew:                          -1.321   Prob(JB):                     3.06e-32\n",
       "Kurtosis:                       6.257   Cond. No.                         423.\n",
       "==============================================================================\n",
       "\n",
       "Notes:\n",
       "[1] Standard Errors assume that the covariance matrix of the errors is correctly specified.\n",
       "\"\"\""
      ]
     },
     "execution_count": 21,
     "metadata": {},
     "output_type": "execute_result"
    }
   ],
   "source": [
    "lm.summary()"
   ]
  },
  {
   "cell_type": "markdown",
   "id": "d17a1124",
   "metadata": {},
   "source": [
    "here we see after removing the newspaper column it again gives us 0.89 value of adjusted R-squared.\n",
    "\n",
    "#### Conclusion of EDA \n",
    "\n",
    "Here we conclde that the column:\n",
    "    \n",
    "TV: It is continous variable that contributing 78%  for the prediction of sale. And its p_value is less than 0.05 so it can be used as feature.\n",
    "    \n",
    "radio: It is continous variable that contributing 58%  for the prediction of sale. And its p_value is less than 0.05 so it can be used as feature.\n",
    "    \n",
    "newspaper: It is continous variable that contributing 23%  for the prediction of sale. But its p_value is more than 0.05 so it cannot be used as feature."
   ]
  },
  {
   "cell_type": "code",
   "execution_count": 22,
   "id": "a900fd8a",
   "metadata": {},
   "outputs": [],
   "source": [
    "df.drop_duplicates(inplace=True)"
   ]
  },
  {
   "cell_type": "markdown",
   "id": "fcc32db8",
   "metadata": {},
   "source": [
    "removing duplicates"
   ]
  },
  {
   "cell_type": "code",
   "execution_count": 23,
   "id": "cbf59ef6",
   "metadata": {},
   "outputs": [],
   "source": [
    "df.drop(['newspaper'], axis=1, inplace=True)"
   ]
  },
  {
   "cell_type": "markdown",
   "id": "3fe2c40f",
   "metadata": {},
   "source": [
    "removed columns \"newspaper\""
   ]
  },
  {
   "cell_type": "code",
   "execution_count": 24,
   "id": "3e44f8a3",
   "metadata": {},
   "outputs": [
    {
     "data": {
      "image/png": "[encoded data removed]",
      "text/plain": [
       "<Figure size 1152x360 with 2 Axes>"
      ]
     },
     "metadata": {
      "needs_background": "light"
     },
     "output_type": "display_data"
    }
   ],
   "source": [
    "fig,axs=plt.subplots(1,2)\n",
    "df['TV'].plot(kind='hist',ax=axs[0],figsize=(16,5))\n",
    "df[\"radio\"].plot(kind='hist',ax=axs[1])\n",
    "plt.show()"
   ]
  },
  {
   "cell_type": "markdown",
   "id": "8bcce2a4",
   "metadata": {},
   "source": [
    "TV,radio are distributed normally and not skewed."
   ]
  },
  {
   "cell_type": "code",
   "execution_count": 25,
   "id": "c8ab95a6",
   "metadata": {},
   "outputs": [
    {
     "data": {
      "text/plain": [
       "(198, 3)"
      ]
     },
     "execution_count": 25,
     "metadata": {},
     "output_type": "execute_result"
    }
   ],
   "source": [
    "df.shape"
   ]
  },
  {
   "cell_type": "code",
   "execution_count": 26,
   "id": "64ac3828",
   "metadata": {
    "scrolled": true
   },
   "outputs": [
    {
     "data": {
      "text/plain": [
       "0.01"
      ]
     },
     "execution_count": 26,
     "metadata": {},
     "output_type": "execute_result"
    }
   ],
   "source": [
    "data_loss=(200-198)/200\n",
    "data_loss"
   ]
  },
  {
   "cell_type": "markdown",
   "id": "a19ccef3",
   "metadata": {},
   "source": [
    "data loss is 1.0%"
   ]
  },
  {
   "cell_type": "code",
   "execution_count": 27,
   "id": "c2dc8d1c",
   "metadata": {},
   "outputs": [
    {
     "data": {
      "text/html": [
       "<div>\n",
       "<style scoped>\n",
       "    .dataframe tbody tr th:only-of-type {\n",
       "        vertical-align: middle;\n",
       "    }\n",
       "\n",
       "    .dataframe tbody tr th {\n",
       "        vertical-align: top;\n",
       "    }\n",
       "\n",
       "    .dataframe thead th {\n",
       "        text-align: right;\n",
       "    }\n",
       "</style>\n",
       "<table border=\"1\" class=\"dataframe\">\n",
       "  <thead>\n",
       "    <tr style=\"text-align: right;\">\n",
       "      <th></th>\n",
       "      <th>TV</th>\n",
       "      <th>radio</th>\n",
       "      <th>sales</th>\n",
       "    </tr>\n",
       "  </thead>\n",
       "  <tbody>\n",
       "    <tr>\n",
       "      <th>count</th>\n",
       "      <td>198.000000</td>\n",
       "      <td>198.000000</td>\n",
       "      <td>198.000000</td>\n",
       "    </tr>\n",
       "    <tr>\n",
       "      <th>mean</th>\n",
       "      <td>146.688384</td>\n",
       "      <td>23.130808</td>\n",
       "      <td>13.980808</td>\n",
       "    </tr>\n",
       "    <tr>\n",
       "      <th>std</th>\n",
       "      <td>85.443221</td>\n",
       "      <td>14.862111</td>\n",
       "      <td>5.196097</td>\n",
       "    </tr>\n",
       "    <tr>\n",
       "      <th>min</th>\n",
       "      <td>0.700000</td>\n",
       "      <td>0.000000</td>\n",
       "      <td>1.600000</td>\n",
       "    </tr>\n",
       "    <tr>\n",
       "      <th>25%</th>\n",
       "      <td>74.800000</td>\n",
       "      <td>9.925000</td>\n",
       "      <td>10.325000</td>\n",
       "    </tr>\n",
       "    <tr>\n",
       "      <th>50%</th>\n",
       "      <td>149.750000</td>\n",
       "      <td>22.400000</td>\n",
       "      <td>12.900000</td>\n",
       "    </tr>\n",
       "    <tr>\n",
       "      <th>75%</th>\n",
       "      <td>218.475000</td>\n",
       "      <td>36.325000</td>\n",
       "      <td>17.375000</td>\n",
       "    </tr>\n",
       "    <tr>\n",
       "      <th>max</th>\n",
       "      <td>293.600000</td>\n",
       "      <td>49.600000</td>\n",
       "      <td>27.000000</td>\n",
       "    </tr>\n",
       "  </tbody>\n",
       "</table>\n",
       "</div>"
      ],
      "text/plain": [
       "               TV       radio       sales\n",
       "count  198.000000  198.000000  198.000000\n",
       "mean   146.688384   23.130808   13.980808\n",
       "std     85.443221   14.862111    5.196097\n",
       "min      0.700000    0.000000    1.600000\n",
       "25%     74.800000    9.925000   10.325000\n",
       "50%    149.750000   22.400000   12.900000\n",
       "75%    218.475000   36.325000   17.375000\n",
       "max    293.600000   49.600000   27.000000"
      ]
     },
     "execution_count": 27,
     "metadata": {},
     "output_type": "execute_result"
    }
   ],
   "source": [
    "df.describe()"
   ]
  },
  {
   "cell_type": "markdown",
   "id": "b0c4d766",
   "metadata": {},
   "source": [
    "Here we can see that the TV has min value i.e. 0.7 and radio has min value i.e. 0.0 that can be quite possible. Sometimes the producer is not spending much money on advertisement and also got the benefits."
   ]
  },
  {
   "cell_type": "markdown",
   "id": "02d1f7d3",
   "metadata": {},
   "source": [
    "## Model Developement"
   ]
  },
  {
   "cell_type": "code",
   "execution_count": 28,
   "id": "51fca6a8",
   "metadata": {},
   "outputs": [],
   "source": [
    "X=df[[\"TV\",\"radio\"]]\n",
    "Y=df.sales"
   ]
  },
  {
   "cell_type": "markdown",
   "id": "ade2dc5e",
   "metadata": {},
   "source": [
    "Splitting data into fetures & labels.\n",
    "\n",
    "Here X is our features & Y is our label."
   ]
  },
  {
   "cell_type": "code",
   "execution_count": 29,
   "id": "d2a39d50",
   "metadata": {},
   "outputs": [],
   "source": [
    "mms=MinMaxScaler()\n",
    "X_scaled=mms.fit_transform(X)"
   ]
  },
  {
   "cell_type": "markdown",
   "id": "048f6e78",
   "metadata": {},
   "source": [
    "Standarized the features using MinMaxScalar technique"
   ]
  },
  {
   "cell_type": "code",
   "execution_count": 30,
   "id": "08d942ea",
   "metadata": {},
   "outputs": [
    {
     "name": "stdout",
     "output_type": "stream",
     "text": [
      "The highest accuracy is 94.7852563461425 at random state 90\n"
     ]
    }
   ],
   "source": [
    "max_accuracy=0\n",
    "for i in range(1,150):\n",
    "    X_train,X_test,Y_train,Y_test=train_test_split(X_scaled,Y,test_size=0.2,random_state=i)\n",
    "    lr=LinearRegression()\n",
    "    lr.fit(X_train,Y_train)\n",
    "    Y_pred=lr.predict(X_test)\n",
    "    accuracy=r2_score(Y_test,Y_pred)*100\n",
    "    if accuracy>max_accuracy:\n",
    "        max_accuracy=accuracy\n",
    "        rs=i\n",
    "print(f\"The highest accuracy is {max_accuracy} at random state {rs}\")"
   ]
  },
  {
   "cell_type": "code",
   "execution_count": 31,
   "id": "266cbce6",
   "metadata": {},
   "outputs": [],
   "source": [
    "X_train,X_test,Y_train,Y_test=train_test_split(X_scaled,Y,test_size=0.2,random_state=rs)"
   ]
  },
  {
   "cell_type": "markdown",
   "id": "7986be73",
   "metadata": {},
   "source": [
    "Here we split the training dataset & test dataset at random state rs i.e. 92 where we get the high accuracy"
   ]
  },
  {
   "cell_type": "code",
   "execution_count": 32,
   "id": "43e94fb1",
   "metadata": {},
   "outputs": [],
   "source": [
    "Linear=LinearRegression()\n",
    "DecisionTree=DecisionTreeRegressor()\n",
    "knn=KNeighborsRegressor()\n",
    "RandomForest=RandomForestRegressor()\n",
    "AdaBoost=AdaBoostRegressor()"
   ]
  },
  {
   "cell_type": "code",
   "execution_count": 33,
   "id": "2973d6a9",
   "metadata": {},
   "outputs": [
    {
     "name": "stdout",
     "output_type": "stream",
     "text": [
      "------------------------------------------------------------\n",
      "The model LinearRegression() has:: \n",
      "\t Accuracy :: 94.8% \n",
      "\t Mean Absolute Error is :: 1.0201503706515989 \n",
      "\t Mean Squared Error is :: 1.5720679103538036 \n",
      "\t Root Mean Squared Error is :: 1.2538213231373134\n",
      "------------------------------------------------------------\n",
      "\n",
      "\n",
      "------------------------------------------------------------\n",
      "The model DecisionTreeRegressor() has:: \n",
      "\t Accuracy :: 97.4% \n",
      "\t Mean Absolute Error is :: 0.6525 \n",
      "\t Mean Squared Error is :: 0.7717499999999996 \n",
      "\t Root Mean Squared Error is :: 0.8784930278607791\n",
      "------------------------------------------------------------\n",
      "\n",
      "\n",
      "------------------------------------------------------------\n",
      "The model RandomForestRegressor() has:: \n",
      "\t Accuracy :: 98.4% \n",
      "\t Mean Absolute Error is :: 0.5535749999999984 \n",
      "\t Mean Squared Error is :: 0.4776082749999978 \n",
      "\t Root Mean Squared Error is :: 0.6910920886538912\n",
      "------------------------------------------------------------\n",
      "\n",
      "\n",
      "------------------------------------------------------------\n",
      "The model KNeighborsRegressor() has:: \n",
      "\t Accuracy :: 98.4% \n",
      "\t Mean Absolute Error is :: 0.5414999999999999 \n",
      "\t Mean Squared Error is :: 0.49661000000000016 \n",
      "\t Root Mean Squared Error is :: 0.7047056122949499\n",
      "------------------------------------------------------------\n",
      "\n",
      "\n",
      "------------------------------------------------------------\n",
      "The model AdaBoostRegressor() has:: \n",
      "\t Accuracy :: 95.8% \n",
      "\t Mean Absolute Error is :: 0.8990215879318375 \n",
      "\t Mean Squared Error is :: 1.2712043509399322 \n",
      "\t Root Mean Squared Error is :: 1.1274769846608543\n",
      "------------------------------------------------------------\n",
      "\n",
      "\n"
     ]
    }
   ],
   "source": [
    "algo=[Linear,DecisionTree,RandomForest,knn,AdaBoost]\n",
    "acc_models={}\n",
    "for model in algo:\n",
    "    model.fit(X_train,Y_train)\n",
    "    Y_pred=model.predict(X_test)\n",
    "    print(\"-\"*60)\n",
    "    acc_models[model]=round(r2_score(Y_test,Y_pred)*100,1)\n",
    "    print(f\"The model {model} has:: \\n\\t Accuracy :: {round(r2_score(Y_test,Y_pred)*100,1)}% \\n\\t Mean Absolute Error is :: {mean_absolute_error(Y_test,Y_pred)} \\n\\t Mean Squared Error is :: {mean_squared_error(Y_test,Y_pred)} \\n\\t Root Mean Squared Error is :: {np.sqrt(mean_squared_error(Y_test,Y_pred))}\")\n",
    "    print(\"-\"*60)\n",
    "    print(\"\\n\")"
   ]
  },
  {
   "cell_type": "code",
   "execution_count": 34,
   "id": "4de0367a",
   "metadata": {},
   "outputs": [
    {
     "data": {
      "text/plain": [
       "{LinearRegression(): 94.8,\n",
       " DecisionTreeRegressor(): 97.4,\n",
       " RandomForestRegressor(): 98.4,\n",
       " KNeighborsRegressor(): 98.4,\n",
       " AdaBoostRegressor(): 95.8}"
      ]
     },
     "execution_count": 34,
     "metadata": {},
     "output_type": "execute_result"
    }
   ],
   "source": [
    "acc_models"
   ]
  },
  {
   "cell_type": "markdown",
   "id": "0e046e13",
   "metadata": {},
   "source": [
    "Here we get the maximum r2-score of each model"
   ]
  },
  {
   "cell_type": "markdown",
   "id": "3dcedf8b",
   "metadata": {},
   "source": [
    "## Crooss-Vaidation"
   ]
  },
  {
   "cell_type": "code",
   "execution_count": 35,
   "id": "9d4b694e",
   "metadata": {},
   "outputs": [
    {
     "name": "stdout",
     "output_type": "stream",
     "text": [
      "\n",
      "LinearRegression()\n",
      "-------------------------\n",
      "\n",
      "\n",
      "Mean CV Score of model LinearRegression():: 0.8917516553872963 at k-fold::2\n",
      "\n",
      "Mean CV Score of model LinearRegression():: 0.8904101563704921 at k-fold::3\n",
      "\n",
      "Mean CV Score of model LinearRegression():: 0.8897753921938709 at k-fold::4\n",
      "\n",
      "Mean CV Score of model LinearRegression():: 0.8877746326163092 at k-fold::5\n",
      "\n",
      "Mean CV Score of model LinearRegression():: 0.8876904957751907 at k-fold::6\n",
      "\n",
      "Mean CV Score of model LinearRegression():: 0.8854980435522061 at k-fold::7\n",
      "\n",
      "Mean CV Score of model LinearRegression():: 0.8904766602868286 at k-fold::8\n",
      "\n",
      "Mean CV Score of model LinearRegression():: 0.8826667532285979 at k-fold::9\n",
      "\n",
      "\n",
      "DecisionTreeRegressor()\n",
      "-------------------------\n",
      "\n",
      "\n",
      "Mean CV Score of model DecisionTreeRegressor():: 0.9360180351572571 at k-fold::2\n",
      "\n",
      "Mean CV Score of model DecisionTreeRegressor():: 0.9604049153322786 at k-fold::3\n",
      "\n",
      "Mean CV Score of model DecisionTreeRegressor():: 0.9599918494936929 at k-fold::4\n",
      "\n",
      "Mean CV Score of model DecisionTreeRegressor():: 0.9555122517981772 at k-fold::5\n",
      "\n",
      "Mean CV Score of model DecisionTreeRegressor():: 0.9508268371772212 at k-fold::6\n",
      "\n",
      "Mean CV Score of model DecisionTreeRegressor():: 0.9617588839930102 at k-fold::7\n",
      "\n",
      "Mean CV Score of model DecisionTreeRegressor():: 0.9594518435630348 at k-fold::8\n",
      "\n",
      "Mean CV Score of model DecisionTreeRegressor():: 0.9610168992898154 at k-fold::9\n",
      "\n",
      "\n",
      "RandomForestRegressor()\n",
      "-------------------------\n",
      "\n",
      "\n",
      "Mean CV Score of model RandomForestRegressor():: 0.9731887428433167 at k-fold::2\n",
      "\n",
      "Mean CV Score of model RandomForestRegressor():: 0.9784586457790331 at k-fold::3\n",
      "\n",
      "Mean CV Score of model RandomForestRegressor():: 0.9818636927166962 at k-fold::4\n",
      "\n",
      "Mean CV Score of model RandomForestRegressor():: 0.9781352186543708 at k-fold::5\n",
      "\n",
      "Mean CV Score of model RandomForestRegressor():: 0.9796274501649908 at k-fold::6\n",
      "\n",
      "Mean CV Score of model RandomForestRegressor():: 0.9790287928218254 at k-fold::7\n",
      "\n",
      "Mean CV Score of model RandomForestRegressor():: 0.9809251455312207 at k-fold::8\n",
      "\n",
      "Mean CV Score of model RandomForestRegressor():: 0.9797262867057079 at k-fold::9\n",
      "\n",
      "\n",
      "KNeighborsRegressor()\n",
      "-------------------------\n",
      "\n",
      "\n",
      "Mean CV Score of model KNeighborsRegressor():: 0.9559401297025045 at k-fold::2\n",
      "\n",
      "Mean CV Score of model KNeighborsRegressor():: 0.9603726825229985 at k-fold::3\n",
      "\n",
      "Mean CV Score of model KNeighborsRegressor():: 0.967317072884156 at k-fold::4\n",
      "\n",
      "Mean CV Score of model KNeighborsRegressor():: 0.965656197233065 at k-fold::5\n",
      "\n",
      "Mean CV Score of model KNeighborsRegressor():: 0.9676529119411192 at k-fold::6\n",
      "\n",
      "Mean CV Score of model KNeighborsRegressor():: 0.9695203722317708 at k-fold::7\n",
      "\n",
      "Mean CV Score of model KNeighborsRegressor():: 0.9740051347189769 at k-fold::8\n",
      "\n",
      "Mean CV Score of model KNeighborsRegressor():: 0.9685398577569713 at k-fold::9\n",
      "\n",
      "\n",
      "AdaBoostRegressor()\n",
      "-------------------------\n",
      "\n",
      "\n",
      "Mean CV Score of model AdaBoostRegressor():: 0.9490683314763804 at k-fold::2\n",
      "\n",
      "Mean CV Score of model AdaBoostRegressor():: 0.957496536393303 at k-fold::3\n",
      "\n",
      "Mean CV Score of model AdaBoostRegressor():: 0.9587486958659751 at k-fold::4\n",
      "\n",
      "Mean CV Score of model AdaBoostRegressor():: 0.9513064560783306 at k-fold::5\n",
      "\n",
      "Mean CV Score of model AdaBoostRegressor():: 0.959019882425769 at k-fold::6\n",
      "\n",
      "Mean CV Score of model AdaBoostRegressor():: 0.9555125608821683 at k-fold::7\n",
      "\n",
      "Mean CV Score of model AdaBoostRegressor():: 0.9549725711685189 at k-fold::8\n",
      "\n",
      "Mean CV Score of model AdaBoostRegressor():: 0.9554562325655905 at k-fold::9\n",
      "\n"
     ]
    }
   ],
   "source": [
    "CVmodel={}\n",
    "\n",
    "for model in algo:\n",
    "    CVscore_={}\n",
    "    print(f\"\\n{model}\")\n",
    "    print(\"-\"*25)\n",
    "    print(\"\\n\")\n",
    "    for i in range(2,10):\n",
    "        cvS=cross_val_score(model,X_scaled,Y,cv=i)\n",
    "        CVscore_[i]=cvS.mean()\n",
    "        print(f\"Mean CV Score of model {model}:: {cvS.mean()} at k-fold::{i}\\n\")\n",
    "    CVdata=pd.DataFrame(CVscore_,index=[\"\"])\n",
    "    CVmodel[str(model)]=CVdata.max(axis=1).tolist()"
   ]
  },
  {
   "cell_type": "code",
   "execution_count": 36,
   "id": "3b8bf487",
   "metadata": {},
   "outputs": [
    {
     "data": {
      "text/plain": [
       "{'LinearRegression()': [0.8917516553872963],\n",
       " 'DecisionTreeRegressor()': [0.9617588839930102],\n",
       " 'RandomForestRegressor()': [0.9818636927166962],\n",
       " 'KNeighborsRegressor()': [0.9740051347189769],\n",
       " 'AdaBoostRegressor()': [0.959019882425769]}"
      ]
     },
     "execution_count": 36,
     "metadata": {},
     "output_type": "execute_result"
    }
   ],
   "source": [
    "CVmodel"
   ]
  },
  {
   "cell_type": "code",
   "execution_count": 37,
   "id": "6238ab23",
   "metadata": {
    "scrolled": true
   },
   "outputs": [
    {
     "name": "stdout",
     "output_type": "stream",
     "text": [
      "The least difference between the r2-score and CV score of each model is::\n",
      "\n",
      "LinearRegression()::5.62\n",
      "DecisionTreeRegressor()::1.22\n",
      "RandomForestRegressor()::0.21\n",
      "KNeighborsRegressor()::1.0\n",
      "AdaBoostRegressor()::0.1\n"
     ]
    }
   ],
   "source": [
    "acc_value=list(acc_models.values ( ))\n",
    "\n",
    "m=list(CVmodel.keys())\n",
    "\n",
    "print(\"The least difference between the r2-score and CV score of each model is::\\n\")\n",
    "for i in range(5):\n",
    "    print(f\"{m[i]}::{round(np.abs(CVmodel[m[i]][0]*100-acc_value[i]),2)}\")"
   ]
  },
  {
   "cell_type": "markdown",
   "id": "46c2758a",
   "metadata": {},
   "source": [
    "## Plotting regplot graph for Adaboost model"
   ]
  },
  {
   "cell_type": "code",
   "execution_count": 38,
   "id": "0d2d8791",
   "metadata": {},
   "outputs": [
    {
     "data": {
      "image/png": "[encoded data removed]",
      "text/plain": [
       "<Figure size 432x288 with 1 Axes>"
      ]
     },
     "metadata": {
      "needs_background": "light"
     },
     "output_type": "display_data"
    }
   ],
   "source": [
    "ada=AdaBoostRegressor()\n",
    "ada.fit(X_train,Y_train)\n",
    "Y_pred=ada.predict(X_test)\n",
    "sns.regplot(Y_test,Y_pred)\n",
    "plt.xlabel(\"Actual Test Data\")\n",
    "plt.ylabel(\"Predicted Data\")\n",
    "plt.tight_layout()"
   ]
  },
  {
   "cell_type": "markdown",
   "id": "91c36ee0",
   "metadata": {},
   "source": [
    "Here we analyse that the data points are very close to the best fit line. That means the residual is less."
   ]
  },
  {
   "cell_type": "markdown",
   "id": "f959916f",
   "metadata": {},
   "source": [
    "## Regularization"
   ]
  },
  {
   "cell_type": "code",
   "execution_count": 39,
   "id": "d1d3a966",
   "metadata": {
    "scrolled": true
   },
   "outputs": [
    {
     "data": {
      "text/plain": [
       "{'alpha': 0.0001, 'max_iter': 1000, 'normalize': False}"
      ]
     },
     "execution_count": 39,
     "metadata": {},
     "output_type": "execute_result"
    }
   ],
   "source": [
    "lasso=Lasso()\n",
    "parameters={\"alpha\":np.arange(0.0001,0.1,0.001),'normalize':[True,False],'max_iter':[1000,1500,2000]}\n",
    "grid=GridSearchCV(lasso,parameters)\n",
    "grid.fit(X_train,Y_train)\n",
    "grid.best_params_"
   ]
  },
  {
   "cell_type": "markdown",
   "id": "a41746d3",
   "metadata": {},
   "source": [
    "Here we get the best paameter for Lasso. So, that we can see our model is overfitted/underfitted or not"
   ]
  },
  {
   "cell_type": "code",
   "execution_count": 40,
   "id": "13cc993d",
   "metadata": {},
   "outputs": [
    {
     "data": {
      "text/plain": [
       "94.78419202303951"
      ]
     },
     "execution_count": 40,
     "metadata": {},
     "output_type": "execute_result"
    }
   ],
   "source": [
    "lasso=Lasso(alpha= 0.0001, max_iter= 1000, normalize=False)\n",
    "lasso.fit(X_train,Y_train)\n",
    "pred=lasso.predict(X_test)\n",
    "r2_score(Y_test,pred)*100"
   ]
  },
  {
   "cell_type": "markdown",
   "id": "0e3b10b3",
   "metadata": {},
   "source": [
    "Here we can see that our model is not overfitted or underfitted as the r2 scoe Lasso model i.e. 94.77 is less or almost similiar with AdaBosst regressor model r2_score that is 95.86."
   ]
  },
  {
   "cell_type": "markdown",
   "id": "eb8821b0",
   "metadata": {},
   "source": [
    "## Hyper Parameter Tuning"
   ]
  },
  {
   "cell_type": "code",
   "execution_count": 41,
   "id": "e99449ab",
   "metadata": {},
   "outputs": [],
   "source": [
    "params={\"base_estimator\":[Linear,DecisionTree,RandomForest],\"n_estimators\":[43,45,47],'learning_rate':[1.1,1.2,1.3],\"loss\":['linear','square','exponential']}"
   ]
  },
  {
   "cell_type": "code",
   "execution_count": 42,
   "id": "44bbdafe",
   "metadata": {},
   "outputs": [
    {
     "data": {
      "text/plain": [
       "GridSearchCV(estimator=AdaBoostRegressor(),\n",
       "             param_grid={'base_estimator': [LinearRegression(),\n",
       "                                            DecisionTreeRegressor(),\n",
       "                                            RandomForestRegressor()],\n",
       "                         'learning_rate': [1.1, 1.2, 1.3],\n",
       "                         'loss': ['linear', 'square', 'exponential'],\n",
       "                         'n_estimators': [43, 45, 47]})"
      ]
     },
     "execution_count": 42,
     "metadata": {},
     "output_type": "execute_result"
    }
   ],
   "source": [
    "grid=GridSearchCV(ada,param_grid=params)\n",
    "grid.fit(X_train,Y_train)"
   ]
  },
  {
   "cell_type": "code",
   "execution_count": 43,
   "id": "a6bea724",
   "metadata": {
    "scrolled": true
   },
   "outputs": [
    {
     "data": {
      "text/plain": [
       "AdaBoostRegressor(base_estimator=RandomForestRegressor(), learning_rate=1.3,\n",
       "                  n_estimators=45)"
      ]
     },
     "execution_count": 43,
     "metadata": {},
     "output_type": "execute_result"
    }
   ],
   "source": [
    "grid.best_estimator_"
   ]
  },
  {
   "cell_type": "code",
   "execution_count": 44,
   "id": "c9d7b40b",
   "metadata": {},
   "outputs": [],
   "source": [
    "ada=AdaBoostRegressor(base_estimator=RandomForestRegressor(), learning_rate=1.2, n_estimators=45)\n",
    "ada.fit(X_train,Y_train)\n",
    "Y_pred=ada.predict(X_test)"
   ]
  },
  {
   "cell_type": "markdown",
   "id": "f3a57267",
   "metadata": {},
   "source": [
    "### Model evalution"
   ]
  },
  {
   "cell_type": "code",
   "execution_count": 45,
   "id": "f9cc8a2d",
   "metadata": {},
   "outputs": [
    {
     "name": "stdout",
     "output_type": "stream",
     "text": [
      "The model AdaBoost Regressor has:: \n",
      "\t Accuracy :: 98.6% \n",
      "\t Mean Absolute Error is :: 0.5394000000000027 \n",
      "\t Mean Squared Error is :: 0.41290970000000415 \n",
      "\t Root Mean Squared Error is :: 0.6425805007934836\n"
     ]
    }
   ],
   "source": [
    "print(f\"The model AdaBoost Regressor has:: \\n\\t Accuracy :: {round(r2_score(Y_test,Y_pred)*100,1)}% \\n\\t Mean Absolute Error is :: {mean_absolute_error(Y_test,Y_pred)} \\n\\t Mean Squared Error is :: {mean_squared_error(Y_test,Y_pred)} \\n\\t Root Mean Squared Error is :: {np.sqrt(mean_squared_error(Y_test,Y_pred))}\")"
   ]
  },
  {
   "cell_type": "markdown",
   "id": "9408287e",
   "metadata": {},
   "source": [
    "Here we can see that our accuracy has increased & The mean_absolute Error ,Mean_sqaured_error, Root_mean_sqaured_error has decreased."
   ]
  },
  {
   "cell_type": "code",
   "execution_count": 46,
   "id": "0c2b212e",
   "metadata": {},
   "outputs": [
    {
     "data": {
      "image/png": "[encoded data removed]",
      "text/plain": [
       "<Figure size 432x288 with 1 Axes>"
      ]
     },
     "metadata": {
      "needs_background": "light"
     },
     "output_type": "display_data"
    }
   ],
   "source": [
    "sns.regplot(Y_test,Y_pred)\n",
    "plt.xlabel(\"Actual Test Data\")\n",
    "plt.ylabel(\"Predicted Data\")\n",
    "plt.tight_layout()"
   ]
  },
  {
   "cell_type": "markdown",
   "id": "d7228576",
   "metadata": {},
   "source": [
    "Here we can see that the points are now much closer than the earlier adaboost model with default parameter to the best fit line, Its due to decrease in mean absolute error, mean Squared Error,& Root mean squared error."
   ]
  },
  {
   "cell_type": "markdown",
   "id": "ba036810",
   "metadata": {},
   "source": [
    "## Save Model"
   ]
  },
  {
   "cell_type": "code",
   "execution_count": 47,
   "id": "f7a730ac",
   "metadata": {},
   "outputs": [
    {
     "data": {
      "text/plain": [
       "['Advertisement_model.pkl']"
      ]
     },
     "execution_count": 47,
     "metadata": {},
     "output_type": "execute_result"
    }
   ],
   "source": [
    "import joblib\n",
    "joblib.dump(ada,'Advertisement_model.pkl')"
   ]
  },
  {
   "cell_type": "code",
   "execution_count": null,
   "id": "46576eef",
   "metadata": {},
   "outputs": [],
   "source": []
  }
 ],
 "metadata": {
  "kernelspec": {
   "display_name": "Python 3",
   "language": "python",
   "name": "python3"
  },
  "language_info": {
   "codemirror_mode": {
    "name": "ipython",
    "version": 3
   },
   "file_extension": ".py",
   "mimetype": "text/x-python",
   "name": "python",
   "nbconvert_exporter": "python",
   "pygments_lexer": "ipython3",
   "version": "3.8.8"
  }
 },
 "nbformat": 4,
 "nbformat_minor": 5
}
